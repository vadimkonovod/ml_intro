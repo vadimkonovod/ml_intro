{
 "cells": [
  {
   "cell_type": "markdown",
   "id": "44a06988",
   "metadata": {},
   "source": [
    "### Programming Assignment 3.1: Support objects"
   ]
  },
  {
   "cell_type": "markdown",
   "id": "1f9eecf4",
   "metadata": {},
   "source": [
    "- work with support vector machine (SVM)\n",
    "- find the most important sample objects"
   ]
  },
  {
   "cell_type": "code",
   "execution_count": 8,
   "id": "d44de795",
   "metadata": {},
   "outputs": [],
   "source": [
    "import pandas as pd\n",
    "import numpy as np\n",
    "from sklearn import datasets\n",
    "from sklearn.svm import SVC\n",
    "from sklearn.feature_extraction.text import TfidfVectorizer\n",
    "from sklearn.model_selection import GridSearchCV, KFold"
   ]
  },
  {
   "cell_type": "code",
   "execution_count": 9,
   "id": "33f81790",
   "metadata": {},
   "outputs": [],
   "source": [
    "df = pd.read_csv('svm.csv', header = None)"
   ]
  },
  {
   "cell_type": "code",
   "execution_count": 10,
   "id": "180d3018",
   "metadata": {},
   "outputs": [],
   "source": [
    "df.head()\n",
    "y = df[0]\n",
    "X = df.drop(columns=0)\n",
    "\n",
    "#X.to_numpy()[1, :]"
   ]
  },
  {
   "cell_type": "code",
   "execution_count": 15,
   "id": "3911d596",
   "metadata": {},
   "outputs": [
    {
     "data": {
      "text/plain": [
       "SVC(C=100000, kernel='linear', random_state=241)"
      ]
     },
     "execution_count": 15,
     "metadata": {},
     "output_type": "execute_result"
    }
   ],
   "source": [
    "model = SVC(C=100000, random_state=241, kernel='linear')\n",
    "model.fit(X, y)"
   ]
  },
  {
   "cell_type": "code",
   "execution_count": 14,
   "id": "12a98fdd",
   "metadata": {},
   "outputs": [
    {
     "data": {
      "text/plain": [
       "array([3, 4, 9], dtype=int32)"
      ]
     },
     "execution_count": 14,
     "metadata": {},
     "output_type": "execute_result"
    }
   ],
   "source": [
    "# these are support objects:\n",
    "model.support_"
   ]
  },
  {
   "cell_type": "markdown",
   "id": "6ed02449",
   "metadata": {},
   "source": [
    "### Programming Assignment 3.2: Text analysis\n",
    "\n",
    "- find optimal parameters for support vector machine\n",
    "- work with text data"
   ]
  },
  {
   "cell_type": "code",
   "execution_count": 3,
   "id": "14e1ba70",
   "metadata": {},
   "outputs": [],
   "source": [
    "newsgroups = datasets.fetch_20newsgroups(\n",
    "                    subset='all', \n",
    "                    categories=['alt.atheism', 'sci.space']\n",
    "             )\n",
    "\n",
    "X_train = newsgroups.data\n",
    "y_train = newsgroups.target"
   ]
  },
  {
   "cell_type": "markdown",
   "id": "02e095e8",
   "metadata": {},
   "source": [
    "Вычислите TF-IDF-признаки для всех текстов. Обратите внимание, что в этом задании мы предлагаем вам вычислить TF-IDF по всем данным. При таком подходе получается, что признаки на обучающем множестве используют информацию из тестовой выборки — но такая ситуация вполне законна, поскольку мы не используем значения целевой переменной из теста. На практике нередко встречаются ситуации, когда признаки объектов тестовой выборки известны на момент обучения, и поэтому можно ими пользоваться при обучении алгоритма."
   ]
  },
  {
   "cell_type": "markdown",
   "id": "2af21433",
   "metadata": {},
   "source": [
    "1. Как я понимаю, каждое слово в тексте заменится на определенное уникальное число для удобства работы. Делается это с помощью TfidfVectorizer.fit_transform(x)"
   ]
  },
  {
   "cell_type": "code",
   "execution_count": 4,
   "id": "1d59f279",
   "metadata": {},
   "outputs": [],
   "source": [
    "vectorizer = TfidfVectorizer()\n",
    "X_train_vect = vectorizer.fit_transform(X_train)"
   ]
  },
  {
   "cell_type": "markdown",
   "id": "ed31c42a",
   "metadata": {},
   "source": [
    "2. Данный пункт - оптимизация параметра C в классификаторе SVC с помощью функции GridSearchCV(). Для \"грида\" нужно передать значения С, среди которых будет искаться самое эффективное и генератор разделений KFold. После, 'грид' нужно обучить указав векторизированное X и Y. "
   ]
  },
  {
   "cell_type": "code",
   "execution_count": 5,
   "id": "30583959",
   "metadata": {},
   "outputs": [
    {
     "data": {
      "text/plain": [
       "(SVC(kernel='linear', random_state=241), 0.9932804406678872, {'C': 1.0})"
      ]
     },
     "execution_count": 5,
     "metadata": {},
     "output_type": "execute_result"
    }
   ],
   "source": [
    "grid = {'C': np.power(10.0, np.arange(-5, 6))}\n",
    "cv = KFold(n_splits=5, shuffle=True, random_state=241)\n",
    "clf = SVC(kernel='linear', random_state=241)\n",
    "gs = GridSearchCV(clf, grid, scoring='accuracy', cv=cv)\n",
    "gs.fit(X_train_vect, y_train)\n",
    "\n",
    "gs.best_estimator_, gs.best_score_, gs.best_params_"
   ]
  },
  {
   "cell_type": "markdown",
   "id": "9202ac2e",
   "metadata": {},
   "source": [
    "3. После этого нам необходимо сделать тоже самое, но уже без 'грида'. Передаем SVC оптимальное значение С: SVC(kernel='linear', random_state=241, С=1. Обучаем его на той же выборке что и грид через fit()"
   ]
  },
  {
   "cell_type": "code",
   "execution_count": 6,
   "id": "a867558f",
   "metadata": {},
   "outputs": [
    {
     "data": {
      "text/plain": [
       "SVC(C=1, kernel='linear', random_state=241)"
      ]
     },
     "execution_count": 6,
     "metadata": {},
     "output_type": "execute_result"
    }
   ],
   "source": [
    "model = SVC(C=1, kernel='linear', random_state=241)\n",
    "model.fit(X_train_vect, y_train)"
   ]
  },
  {
   "cell_type": "markdown",
   "id": "6944f972",
   "metadata": {},
   "source": [
    "4. Нужно получить наибольшие 10 весов из обученного классификатора (SVC), узнать их индексы. Потом по этим индексам узнать с помощью vectorizer.get_feature_names() каким словам принадлежат эти индексы. "
   ]
  },
  {
   "cell_type": "code",
   "execution_count": 7,
   "id": "a29ec578",
   "metadata": {},
   "outputs": [
    {
     "data": {
      "text/plain": [
       "['atheism',\n",
       " 'atheists',\n",
       " 'bible',\n",
       " 'god',\n",
       " 'keith',\n",
       " 'moon',\n",
       " 'religion',\n",
       " 'sci',\n",
       " 'sky',\n",
       " 'space']"
      ]
     },
     "execution_count": 7,
     "metadata": {},
     "output_type": "execute_result"
    }
   ],
   "source": [
    "# coef_ - разряженная матрица, к тому же неотсортированная по убыванию или возрастанию.\n",
    "# Разряженную матрицу можно привести к обычной с помощью todense().\n",
    "coefs = model.coef_.todense().A1\n",
    "coefs = abs(coefs)\n",
    "# После этого берем модуль от матрицы (то есть всех значений). \n",
    "# Т.к. как я понимаю, веса одного класса будут отрицатлеьными, а другого класса – положительными\n",
    "\n",
    "# Теперь нужно упорядочить массив по возрастанию (или убыванию). \n",
    "# При этом упорядочить надо так, чтобы индексы не поменялись.\n",
    "# Можно использовать np.argsort(). Функция сортирует индексы элементов по возрастанию величины элементов.\n",
    "coefs = np.argsort(coefs)[-10:]\n",
    "\n",
    "# C помощью vectorizer.get_feature_names() узнаем каким словам принадлежат эти индексы.\n",
    "words = np.take(vectorizer.get_feature_names(), coefs)\n",
    "\n",
    "# Сортируем слова в лексикографическом порядке. \n",
    "sorted(words)"
   ]
  },
  {
   "cell_type": "markdown",
   "id": "2a62821c",
   "metadata": {},
   "source": [
    "## Но что означают абсолютные значения коэф-ов? что значит тот факт, что у слова atheism –  кэф самый большой?"
   ]
  },
  {
   "cell_type": "markdown",
   "id": "b9100858",
   "metadata": {},
   "source": [
    "#### Sandbox"
   ]
  },
  {
   "cell_type": "code",
   "execution_count": 172,
   "id": "6e4352a5",
   "metadata": {},
   "outputs": [
    {
     "data": {
      "text/plain": [
       "array([1, 2, 0])"
      ]
     },
     "execution_count": 172,
     "metadata": {},
     "output_type": "execute_result"
    }
   ],
   "source": [
    "b = np.matrix([[4, 2],[3,5]])\n",
    "np.argsort(b.A1)[0:3]"
   ]
  },
  {
   "cell_type": "markdown",
   "id": "e4eeccf8",
   "metadata": {},
   "source": [
    "### Programming Assignment 3.3: Logistic regression"
   ]
  },
  {
   "cell_type": "markdown",
   "id": "4964f090",
   "metadata": {},
   "source": [
    "- work with logistic regression\n",
    "- implement gradient descent to customize it\n",
    "- use regularization"
   ]
  },
  {
   "cell_type": "code",
   "execution_count": 676,
   "id": "8592a5a0",
   "metadata": {},
   "outputs": [],
   "source": [
    "from math import exp, log\n",
    "from numpy.linalg import norm\n",
    "from sklearn.metrics import roc_auc_score\n",
    "\n",
    "df = pd.read_csv('data-logistic.csv', header=None, names=['y', 'x1', 'x2'])"
   ]
  },
  {
   "cell_type": "code",
   "execution_count": 677,
   "id": "bc0e59d4",
   "metadata": {},
   "outputs": [],
   "source": [
    "def distance(w1, w2):\n",
    "    return np.sqrt(np.square(w1[0] - w2[0]) + np.square(w1[1] - w2[1]))\n",
    "\n",
    "def sigmoid(x):\n",
    "    return 1.0 / (1.0 + np.exp(-x))"
   ]
  },
  {
   "attachments": {
    "image.png": {
     "image/png": "[encoded data removed]"
    }
   },
   "cell_type": "markdown",
   "id": "5a828059",
   "metadata": {},
   "source": [
    "![image.png](attachment:image.png)"
   ]
  },
  {
   "cell_type": "code",
   "execution_count": 678,
   "id": "28d64fe1",
   "metadata": {},
   "outputs": [
    {
     "name": "stdout",
     "output_type": "stream",
     "text": [
      "w1: 0.25704671613527813 w2: 0.11977148255430584 \n",
      "n: 512, dist: 9.997083013177199e-05\n",
      "0.9325714285714286 \n",
      "\n",
      "w1: 0.02793057899019212 w2: 0.02436848059077782 \n",
      "n: 29, dist: 9.43301639992076e-05\n",
      "0.9362857142857142 \n",
      "\n"
     ]
    }
   ],
   "source": [
    "def calc_sums(w1, w2):\n",
    "    summa1 = 0\n",
    "    summa2 = 0\n",
    "    for i in range(0, 205):\n",
    "        common = (1 - 1/(1 + exp(-df['y'][i] * (w1 * df['x1'][i] + w2 * df['x2'][i]))))\n",
    "        \n",
    "        summa1 += df['x1'][i] * df['y'][i] * common \n",
    "        summa2 += df['x2'][i] * df['y'][i] * common\n",
    "    \n",
    "    return summa1, summa2\n",
    "\n",
    "def log_reg(C, k, max_iter):\n",
    "    w1, w2 = 0, 0\n",
    "\n",
    "    for n in range(0, max_iter):\n",
    "        s1, s2 = calc_sums(w1, w2)\n",
    "\n",
    "        new_w1 = w1 + k * s1/l - (k * C * w1)\n",
    "        new_w2 = w2 + k * s2/l - (k * C * w2)\n",
    "\n",
    "        dist = distance((w1, w2), (new_w1, new_w2))\n",
    "\n",
    "        if dist < 0.0001:\n",
    "            print(f'w1: {w1} w2: {w2} \\nn: {n}, dist: {dist}')\n",
    "            break \n",
    "\n",
    "        w1 = new_w1\n",
    "        w2 = new_w2\n",
    "\n",
    "    predictions = []\n",
    "    for i in range(0, 205):\n",
    "        t1 = w1 * df['x1'][i] + w2 * df['x2'][i]\n",
    "        s = sigmoid(t1)\n",
    "        predictions.append(s)\n",
    "        \n",
    "    print(f'{roc_auc_score(df[\"y\"], predictions)} \\n')\n",
    "\n",
    "log_reg(0, 0.1, 10_000)\n",
    "log_reg(10, 0.1, 10_000)"
   ]
  },
  {
   "cell_type": "code",
   "execution_count": 687,
   "id": "4220e825",
   "metadata": {},
   "outputs": [
    {
     "name": "stdout",
     "output_type": "stream",
     "text": [
      "w1: 0.2881081945740146 w2: 0.0917091004787856 \n",
      "n: 1011, dist: 9.858894641103832e-14\n",
      "0.9267619047619047 \n",
      "\n",
      "w1: 0.028559431523877403 w2: 0.02478087899703931 \n",
      "n: 21, dist: 4.49514561349585e-14\n",
      "0.9362857142857142 \n",
      "\n"
     ]
    }
   ],
   "source": [
    "import matplotlib.pyplot as plt\n",
    "\n",
    "def log_reg_new(df, C, k, max_iter):\n",
    "    y = df.values[:, :1].T\n",
    "    X = df.values[:, 1:]\n",
    "    \n",
    "    w1, w2 = 0, 0\n",
    "\n",
    "    for n in range(0, max_iter):\n",
    "        common = (1 - 1/(1 + np.exp(-y * (w1 * X[:,0] + w2 * X[:,1]))))\n",
    "\n",
    "        new_w1 = w1 + k * np.mean(X[:,0] * y * common) - (k * C * w1)\n",
    "        new_w2 = w2 + k * np.mean(X[:,1] * y * common) - (k * C * w2)\n",
    "\n",
    "        dist = distance((w1, w2), (new_w1, new_w2))\n",
    "\n",
    "        if dist < 0.0001:\n",
    "            print(f'w1: {w1} w2: {w2} \\nn: {n}, dist: {dist}')\n",
    "            break \n",
    "\n",
    "        w1 = new_w1\n",
    "        w2 = new_w2\n",
    "\n",
    "    predictions = sigmoid(w1 * X[:,0] + w2 * X[:,1])\n",
    "    \n",
    "    print(f'{roc_auc_score(y.T, predictions)} \\n')\n",
    "    \n",
    "log_reg_new(df, 0, 0.1, 10_000)\n",
    "log_reg_new(df, 10, 0.1, 10_000)"
   ]
  },
  {
   "cell_type": "markdown",
   "id": "ada25283",
   "metadata": {},
   "source": [
    "### Programming Assignment 3.4: Classification quality metrics"
   ]
  },
  {
   "cell_type": "markdown",
   "id": "d590b3a6",
   "metadata": {},
   "source": [
    "**1 Calculate confusion matrix (TP, FP, FN, TN)**"
   ]
  },
  {
   "cell_type": "code",
   "execution_count": 596,
   "id": "fee30597",
   "metadata": {},
   "outputs": [
    {
     "data": {
      "text/plain": [
       "true  pred\n",
       "0     0       64\n",
       "1     0       59\n",
       "      1       43\n",
       "0     1       34\n",
       "dtype: int64"
      ]
     },
     "execution_count": 596,
     "metadata": {},
     "output_type": "execute_result"
    }
   ],
   "source": [
    "from sklearn.metrics import confusion_matrix\n",
    "\n",
    "df = pd.read_csv('classification.csv')\n",
    "df.value_counts()"
   ]
  },
  {
   "cell_type": "code",
   "execution_count": 597,
   "id": "14d40f7c",
   "metadata": {},
   "outputs": [
    {
     "data": {
      "text/plain": [
       "array([[64, 34],\n",
       "       [59, 43]])"
      ]
     },
     "execution_count": 597,
     "metadata": {},
     "output_type": "execute_result"
    }
   ],
   "source": [
    "confusion_matrix(df.true, df.pred)"
   ]
  },
  {
   "cell_type": "code",
   "execution_count": 604,
   "id": "6461ec1d",
   "metadata": {},
   "outputs": [
    {
     "data": {
      "text/plain": [
       "(43, 34, 59, 64)"
      ]
     },
     "execution_count": 604,
     "metadata": {},
     "output_type": "execute_result"
    }
   ],
   "source": [
    "TP, FN, FP, TN = 0, 0, 0, 0\n",
    "\n",
    "for index, row in df.iterrows():\n",
    "    if row.true == 1:\n",
    "        if row.pred == 1:\n",
    "            TP+=1\n",
    "        else:\n",
    "            FN+=1\n",
    "    if row.true == 0:\n",
    "        if row.pred == 1:\n",
    "            FP+=1\n",
    "        else:\n",
    "            TN+=1\n",
    "        \n",
    "TP, FP, FN, TN"
   ]
  },
  {
   "cell_type": "markdown",
   "id": "30802b6f",
   "metadata": {},
   "source": [
    "**2 Calculate**\n",
    "- Accuracy (доля верно угаданных) — sklearn.metrics.accuracy_score\n",
    "- Precision (точность) — sklearn.metrics.precision_score\n",
    "- Recall (полнота) — sklearn.metrics.recall_score\n",
    "- F-мера — sklearn.metrics.f1_score"
   ]
  },
  {
   "cell_type": "code",
   "execution_count": 612,
   "id": "7c6b20ef",
   "metadata": {},
   "outputs": [
    {
     "data": {
      "text/plain": [
       "(0.535, 0.535)"
      ]
     },
     "execution_count": 612,
     "metadata": {},
     "output_type": "execute_result"
    }
   ],
   "source": [
    "from sklearn.metrics import accuracy_score\n",
    "accuracy = (TP + TN) / (TP + TN + FP + FN)\n",
    "accuracy, accuracy_score(df.true, df.pred)"
   ]
  },
  {
   "cell_type": "code",
   "execution_count": 613,
   "id": "d96eabdd",
   "metadata": {},
   "outputs": [
    {
     "data": {
      "text/plain": [
       "(0.5584415584415584, 0.5584415584415584)"
      ]
     },
     "execution_count": 613,
     "metadata": {},
     "output_type": "execute_result"
    }
   ],
   "source": [
    "from sklearn.metrics import precision_score\n",
    "precision = TP / (TP + FP)\n",
    "precision, precision_score(df.true, df.pred)"
   ]
  },
  {
   "cell_type": "code",
   "execution_count": 614,
   "id": "65cef66f",
   "metadata": {},
   "outputs": [
    {
     "data": {
      "text/plain": [
       "(0.4215686274509804, 0.4215686274509804)"
      ]
     },
     "execution_count": 614,
     "metadata": {},
     "output_type": "execute_result"
    }
   ],
   "source": [
    "from sklearn.metrics import recall_score\n",
    "recall = TP / (TP + FN)\n",
    "recall, recall_score(df.true, df.pred)"
   ]
  },
  {
   "cell_type": "code",
   "execution_count": 615,
   "id": "29c3107a",
   "metadata": {},
   "outputs": [
    {
     "data": {
      "text/plain": [
       "(0.48044692737430167, 0.48044692737430167)"
      ]
     },
     "execution_count": 615,
     "metadata": {},
     "output_type": "execute_result"
    }
   ],
   "source": [
    "from sklearn.metrics import f1_score\n",
    "f = 2 * precision * recall / (precision + recall)\n",
    "f, f1_score(df.true, df.pred)"
   ]
  },
  {
   "cell_type": "markdown",
   "id": "52e87430",
   "metadata": {},
   "source": [
    "**3 AUC-ROC**"
   ]
  },
  {
   "cell_type": "code",
   "execution_count": 624,
   "id": "30d7992e",
   "metadata": {},
   "outputs": [
    {
     "data": {
      "text/html": [
       "<div>\n",
       "<style scoped>\n",
       "    .dataframe tbody tr th:only-of-type {\n",
       "        vertical-align: middle;\n",
       "    }\n",
       "\n",
       "    .dataframe tbody tr th {\n",
       "        vertical-align: top;\n",
       "    }\n",
       "\n",
       "    .dataframe thead th {\n",
       "        text-align: right;\n",
       "    }\n",
       "</style>\n",
       "<table border=\"1\" class=\"dataframe\">\n",
       "  <thead>\n",
       "    <tr style=\"text-align: right;\">\n",
       "      <th></th>\n",
       "      <th>true</th>\n",
       "      <th>score_logreg</th>\n",
       "      <th>score_svm</th>\n",
       "      <th>score_knn</th>\n",
       "      <th>score_tree</th>\n",
       "    </tr>\n",
       "  </thead>\n",
       "  <tbody>\n",
       "    <tr>\n",
       "      <th>0</th>\n",
       "      <td>0</td>\n",
       "      <td>0.683832</td>\n",
       "      <td>0.145976</td>\n",
       "      <td>0.787063</td>\n",
       "      <td>0.500000</td>\n",
       "    </tr>\n",
       "    <tr>\n",
       "      <th>1</th>\n",
       "      <td>1</td>\n",
       "      <td>0.801966</td>\n",
       "      <td>0.239511</td>\n",
       "      <td>1.000000</td>\n",
       "      <td>0.833333</td>\n",
       "    </tr>\n",
       "    <tr>\n",
       "      <th>2</th>\n",
       "      <td>0</td>\n",
       "      <td>0.382315</td>\n",
       "      <td>-0.245701</td>\n",
       "      <td>0.000000</td>\n",
       "      <td>0.000000</td>\n",
       "    </tr>\n",
       "    <tr>\n",
       "      <th>3</th>\n",
       "      <td>1</td>\n",
       "      <td>0.506797</td>\n",
       "      <td>-0.137058</td>\n",
       "      <td>0.000000</td>\n",
       "      <td>0.105263</td>\n",
       "    </tr>\n",
       "    <tr>\n",
       "      <th>4</th>\n",
       "      <td>1</td>\n",
       "      <td>0.488781</td>\n",
       "      <td>-0.154148</td>\n",
       "      <td>0.000000</td>\n",
       "      <td>0.105263</td>\n",
       "    </tr>\n",
       "  </tbody>\n",
       "</table>\n",
       "</div>"
      ],
      "text/plain": [
       "   true  score_logreg  score_svm  score_knn  score_tree\n",
       "0     0      0.683832   0.145976   0.787063    0.500000\n",
       "1     1      0.801966   0.239511   1.000000    0.833333\n",
       "2     0      0.382315  -0.245701   0.000000    0.000000\n",
       "3     1      0.506797  -0.137058   0.000000    0.105263\n",
       "4     1      0.488781  -0.154148   0.000000    0.105263"
      ]
     },
     "execution_count": 624,
     "metadata": {},
     "output_type": "execute_result"
    }
   ],
   "source": [
    "from sklearn.metrics import roc_auc_score\n",
    "\n",
    "scores_df = pd.read_csv('scores.csv')\n",
    "scores_df.head()"
   ]
  },
  {
   "cell_type": "markdown",
   "id": "47395dde",
   "metadata": {},
   "source": [
    "Посчитайте площадь под ROC-кривой для каждого классификатора"
   ]
  },
  {
   "cell_type": "code",
   "execution_count": 630,
   "id": "24cdc08d",
   "metadata": {},
   "outputs": [
    {
     "name": "stdout",
     "output_type": "stream",
     "text": [
      "score_logreg 0.719187675070028\n",
      "score_svm 0.7086834733893557\n",
      "score_knn 0.6351540616246498\n",
      "score_tree 0.6919267707082833\n"
     ]
    }
   ],
   "source": [
    "print('score_logreg', roc_auc_score(scores_df.true, scores_df.score_logreg))\n",
    "print('score_svm', roc_auc_score(scores_df.true, scores_df.score_svm))\n",
    "print('score_knn', roc_auc_score(scores_df.true, scores_df.score_knn))\n",
    "print('score_tree', roc_auc_score(scores_df.true, scores_df.score_tree))"
   ]
  },
  {
   "cell_type": "markdown",
   "id": "002e20c3",
   "metadata": {},
   "source": [
    "Какой классификатор достигает наибольшей точности (Precision) при полноте (Recall) не менее 70% ? \n",
    "\n",
    "Можно все точки precision-recall-кривой с помощью функции sklearn.metrics.precision_recall_curve. Она возвращает три массива: precision, recall, thresholds. В них записаны точность и полнота при определенных порогах, указанных в массиве thresholds. Остается найти максимальной значение точности среди тех записей, для которых полнота не меньше, чем 0.7."
   ]
  },
  {
   "cell_type": "code",
   "execution_count": 647,
   "id": "3126bb91",
   "metadata": {},
   "outputs": [],
   "source": [
    "from sklearn.metrics import precision_recall_curve\n",
    "\n",
    "prec, rec, threshhold = precision_recall_curve(scores_df.true, scores_df.score_logreg)"
   ]
  },
  {
   "cell_type": "code",
   "execution_count": 673,
   "id": "d80081bf",
   "metadata": {},
   "outputs": [],
   "source": [
    "def calculate_best_precision_recall(prec, rec, threshhold):\n",
    "    precision = 0\n",
    "    recall = 0\n",
    "    thresh = 0\n",
    "    idx = 0\n",
    "\n",
    "    for i, thr in enumerate(threshhold):\n",
    "        if rec[i] >= 0.7 and prec[i] > precision:\n",
    "            precision = prec[i]\n",
    "            recall = rec[i]\n",
    "            thresh = thr\n",
    "            idx = i\n",
    "\n",
    "    print(f'precision: {precision}, recall: {recall},\\nthresh: {thresh}, f_score: {2 * precision * recall / (precision + recall)}')"
   ]
  },
  {
   "cell_type": "code",
   "execution_count": 674,
   "id": "1561eeb1",
   "metadata": {},
   "outputs": [
    {
     "name": "stdout",
     "output_type": "stream",
     "text": [
      "score_logreg\n",
      "precision: 0.6302521008403361, recall: 0.7653061224489796,\n",
      "thresh: 0.4885220002986035, f_score: 0.6912442396313363\n",
      "\n",
      "score_svm\n",
      "precision: 0.6228070175438597, recall: 0.7244897959183674,\n",
      "thresh: -0.1235403305867105, f_score: 0.669811320754717\n",
      "\n",
      "score_knn\n",
      "precision: 0.6065573770491803, recall: 0.7551020408163265,\n",
      "thresh: 0.3193344964912923, f_score: 0.6727272727272727\n",
      "\n",
      "score_tree\n",
      "precision: 0.6517857142857143, recall: 0.7448979591836735,\n",
      "thresh: 0.4, f_score: 0.6952380952380953\n",
      "\n"
     ]
    }
   ],
   "source": [
    "for col in scores_df.columns[1:]:\n",
    "    prec, rec, threshhold = precision_recall_curve(scores_df.true, scores_df[col])\n",
    "    print(col)\n",
    "    calculate_best_precision_recall(prec, rec, threshhold)\n",
    "    print()\n"
   ]
  },
  {
   "cell_type": "code",
   "execution_count": 732,
   "id": "e64a525a",
   "metadata": {},
   "outputs": [],
   "source": [
    "X = np.matrix([[1, 2104, 5, 1, 45], [1, 1416, 3, 2, 40], [1, 1534, 3, 2, 30], [1, 852, 2, 1, 36]])\n",
    "y = np.matrix([[460], [232], [315], [178]])\n",
    "X_t = np.transpose(X)\n",
    "\n",
    "theta = np.linalg.pinv(X_t * X) * X_t * y "
   ]
  },
  {
   "cell_type": "code",
   "execution_count": 731,
   "id": "7bb8c87e",
   "metadata": {},
   "outputs": [
    {
     "data": {
      "text/plain": [
       "matrix([[178.]])"
      ]
     },
     "execution_count": 731,
     "metadata": {},
     "output_type": "execute_result"
    }
   ],
   "source": [
    "X[3] * theta"
   ]
  }
 ],
 "metadata": {
  "kernelspec": {
   "display_name": "Python 3",
   "language": "python",
   "name": "python3"
  },
  "language_info": {
   "codemirror_mode": {
    "name": "ipython",
    "version": 3
   },
   "file_extension": ".py",
   "mimetype": "text/x-python",
   "name": "python",
   "nbconvert_exporter": "python",
   "pygments_lexer": "ipython3",
   "version": "3.8.8"
  }
 },
 "nbformat": 4,
 "nbformat_minor": 5
}
