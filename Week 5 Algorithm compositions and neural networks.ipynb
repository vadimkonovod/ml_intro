{
 "cells": [
  {
   "cell_type": "markdown",
   "id": "1bbad635",
   "metadata": {},
   "source": [
    "### Programming Assignment 5.1: Random forest size"
   ]
  },
  {
   "cell_type": "markdown",
   "id": "f7ee7698",
   "metadata": {},
   "source": [
    "- work with a random forest – one of the most common families of algorithms\n",
    "- solve regression problems with it\n",
    "- select parameters of a random forest"
   ]
  },
  {
   "cell_type": "code",
   "execution_count": 4,
   "id": "b63b6d4a",
   "metadata": {},
   "outputs": [],
   "source": [
    "import pandas as pd\n",
    "import numpy as np\n",
    "\n",
    "from sklearn.ensemble import RandomForestClassifier, RandomForestRegressor\n",
    "from sklearn.metrics import r2_score\n",
    "from sklearn.model_selection import KFold, cross_val_score"
   ]
  },
  {
   "cell_type": "code",
   "execution_count": 116,
   "id": "441aa9cb",
   "metadata": {},
   "outputs": [
    {
     "data": {
      "text/html": [
       "<div>\n",
       "<style scoped>\n",
       "    .dataframe tbody tr th:only-of-type {\n",
       "        vertical-align: middle;\n",
       "    }\n",
       "\n",
       "    .dataframe tbody tr th {\n",
       "        vertical-align: top;\n",
       "    }\n",
       "\n",
       "    .dataframe thead th {\n",
       "        text-align: right;\n",
       "    }\n",
       "</style>\n",
       "<table border=\"1\" class=\"dataframe\">\n",
       "  <thead>\n",
       "    <tr style=\"text-align: right;\">\n",
       "      <th></th>\n",
       "      <th>Sex</th>\n",
       "      <th>Length</th>\n",
       "      <th>Diameter</th>\n",
       "      <th>Height</th>\n",
       "      <th>WholeWeight</th>\n",
       "      <th>ShuckedWeight</th>\n",
       "      <th>VisceraWeight</th>\n",
       "      <th>ShellWeight</th>\n",
       "      <th>Rings</th>\n",
       "    </tr>\n",
       "  </thead>\n",
       "  <tbody>\n",
       "    <tr>\n",
       "      <th>0</th>\n",
       "      <td>1</td>\n",
       "      <td>0.455</td>\n",
       "      <td>0.365</td>\n",
       "      <td>0.095</td>\n",
       "      <td>0.5140</td>\n",
       "      <td>0.2245</td>\n",
       "      <td>0.1010</td>\n",
       "      <td>0.150</td>\n",
       "      <td>15</td>\n",
       "    </tr>\n",
       "    <tr>\n",
       "      <th>1</th>\n",
       "      <td>1</td>\n",
       "      <td>0.350</td>\n",
       "      <td>0.265</td>\n",
       "      <td>0.090</td>\n",
       "      <td>0.2255</td>\n",
       "      <td>0.0995</td>\n",
       "      <td>0.0485</td>\n",
       "      <td>0.070</td>\n",
       "      <td>7</td>\n",
       "    </tr>\n",
       "    <tr>\n",
       "      <th>2</th>\n",
       "      <td>-1</td>\n",
       "      <td>0.530</td>\n",
       "      <td>0.420</td>\n",
       "      <td>0.135</td>\n",
       "      <td>0.6770</td>\n",
       "      <td>0.2565</td>\n",
       "      <td>0.1415</td>\n",
       "      <td>0.210</td>\n",
       "      <td>9</td>\n",
       "    </tr>\n",
       "    <tr>\n",
       "      <th>3</th>\n",
       "      <td>1</td>\n",
       "      <td>0.440</td>\n",
       "      <td>0.365</td>\n",
       "      <td>0.125</td>\n",
       "      <td>0.5160</td>\n",
       "      <td>0.2155</td>\n",
       "      <td>0.1140</td>\n",
       "      <td>0.155</td>\n",
       "      <td>10</td>\n",
       "    </tr>\n",
       "    <tr>\n",
       "      <th>4</th>\n",
       "      <td>0</td>\n",
       "      <td>0.330</td>\n",
       "      <td>0.255</td>\n",
       "      <td>0.080</td>\n",
       "      <td>0.2050</td>\n",
       "      <td>0.0895</td>\n",
       "      <td>0.0395</td>\n",
       "      <td>0.055</td>\n",
       "      <td>7</td>\n",
       "    </tr>\n",
       "  </tbody>\n",
       "</table>\n",
       "</div>"
      ],
      "text/plain": [
       "   Sex  Length  Diameter  Height  WholeWeight  ShuckedWeight  VisceraWeight  \\\n",
       "0    1   0.455     0.365   0.095       0.5140         0.2245         0.1010   \n",
       "1    1   0.350     0.265   0.090       0.2255         0.0995         0.0485   \n",
       "2   -1   0.530     0.420   0.135       0.6770         0.2565         0.1415   \n",
       "3    1   0.440     0.365   0.125       0.5160         0.2155         0.1140   \n",
       "4    0   0.330     0.255   0.080       0.2050         0.0895         0.0395   \n",
       "\n",
       "   ShellWeight  Rings  \n",
       "0        0.150     15  \n",
       "1        0.070      7  \n",
       "2        0.210      9  \n",
       "3        0.155     10  \n",
       "4        0.055      7  "
      ]
     },
     "execution_count": 116,
     "metadata": {},
     "output_type": "execute_result"
    }
   ],
   "source": [
    "df = pd.read_csv('abalone.csv')\n",
    "df['Sex'] = df['Sex'].map(lambda x: 1 if x == 'M' else (-1 if x == 'F' else 0)) # run ONCE only :)\n",
    "\n",
    "df.head()"
   ]
  },
  {
   "cell_type": "code",
   "execution_count": 153,
   "id": "8dce0dca",
   "metadata": {},
   "outputs": [],
   "source": [
    "X = df.iloc[:,:-1]\n",
    "y = df.iloc[:,-1]\n",
    "\n",
    "kf = KFold(n_splits=5, random_state=1, shuffle=True)\n",
    "model = RandomForestRegressor(random_state=1)"
   ]
  },
  {
   "cell_type": "code",
   "execution_count": 154,
   "id": "df7885ad",
   "metadata": {},
   "outputs": [
    {
     "name": "stdout",
     "output_type": "stream",
     "text": [
      "n = 1, accuracy = 0.10967482068860261\n",
      "n = 2, accuracy = 0.3413000096365689\n",
      "n = 3, accuracy = 0.406433829066129\n",
      "n = 4, accuracy = 0.4447745857536912\n",
      "n = 5, accuracy = 0.46503241426823594\n",
      "n = 6, accuracy = 0.47139595825898917\n",
      "n = 7, accuracy = 0.4766658451893487\n",
      "n = 8, accuracy = 0.4829348394224631\n",
      "n = 9, accuracy = 0.4894370162945041\n",
      "n = 10, accuracy = 0.4954085552428177\n",
      "n = 11, accuracy = 0.4944111155773555\n",
      "n = 12, accuracy = 0.49902817866563326\n",
      "n = 13, accuracy = 0.5030578549564464\n",
      "n = 14, accuracy = 0.5073168234618861\n",
      "n = 15, accuracy = 0.5091809969556578\n",
      "n = 16, accuracy = 0.5114105314179662\n",
      "n = 17, accuracy = 0.5148917747729636\n",
      "n = 18, accuracy = 0.5172203573170132\n",
      "n = 19, accuracy = 0.5198293095329432\n",
      "n = 20, accuracy = 0.51948435033775\n",
      "n = 21, accuracy = 0.520529096463528\n",
      "n = 22, accuracy = 0.5208044230080824\n",
      "n = 23, accuracy = 0.521742855685855\n",
      "n = 24, accuracy = 0.5231059969795335\n",
      "n = 25, accuracy = 0.5232486470488318\n",
      "n = 26, accuracy = 0.5243076139284634\n",
      "n = 27, accuracy = 0.5246393588459404\n",
      "n = 28, accuracy = 0.5256557724971402\n",
      "n = 29, accuracy = 0.5265556293057552\n",
      "n = 30, accuracy = 0.5270858715838138\n",
      "n = 31, accuracy = 0.5276420438225101\n",
      "n = 32, accuracy = 0.5289244806388986\n",
      "n = 33, accuracy = 0.5301073722643779\n",
      "n = 34, accuracy = 0.5299613734264366\n",
      "n = 35, accuracy = 0.5298209779129148\n",
      "n = 36, accuracy = 0.529910050667947\n",
      "n = 37, accuracy = 0.5294320415136227\n",
      "n = 38, accuracy = 0.5294715388671245\n",
      "n = 39, accuracy = 0.529515898349607\n",
      "n = 40, accuracy = 0.5294703580378128\n",
      "n = 41, accuracy = 0.5298087685207094\n",
      "n = 42, accuracy = 0.5300433306143383\n",
      "n = 43, accuracy = 0.5299135764090978\n",
      "n = 44, accuracy = 0.5296814957917958\n",
      "n = 45, accuracy = 0.528908112349864\n",
      "n = 46, accuracy = 0.5290083070325597\n",
      "n = 47, accuracy = 0.5291786571646144\n",
      "n = 48, accuracy = 0.5300509396315634\n",
      "n = 49, accuracy = 0.530813058616495\n",
      "n = 50, accuracy = 0.5309509147417047\n",
      "k = 50, accuracy = 0.5309509147417047\n"
     ]
    }
   ],
   "source": [
    "accs = {}\n",
    "\n",
    "for n in range(1, 51):\n",
    "    model.n_estimators = n\n",
    "    accs[n] = np.mean(cross_val_score(estimator=model, X=X, y=y, cv=kf, scoring='r2'))\n",
    "    print(f'n = {n}, accuracy = {accs[n]}')\n",
    "\n",
    "k = max(accs, key=accs.get)\n",
    "print(f'k = {k}, accuracy = {accs.get(k)}')"
   ]
  },
  {
   "cell_type": "markdown",
   "id": "10953b51",
   "metadata": {},
   "source": [
    "## Right answer: 22 (wtf)"
   ]
  },
  {
   "cell_type": "markdown",
   "id": "e1f52b9c",
   "metadata": {},
   "source": [
    "### Homemade accuracy calculation"
   ]
  },
  {
   "cell_type": "code",
   "execution_count": 151,
   "id": "97361476",
   "metadata": {},
   "outputs": [],
   "source": [
    "def calc_accuracy(model, kf):\n",
    "    accuracies = []\n",
    "    \n",
    "    for train_index, test_index in kf.split(X):\n",
    "        X_train, X_test = X.iloc[train_index], X.iloc[test_index]\n",
    "        y_train, y_test = y[train_index], y[test_index]\n",
    "\n",
    "        model.fit(X_train, y_train)\n",
    "\n",
    "        accuracies.append(r2_score(model.predict(X_test), y_test))\n",
    "\n",
    "    return np.mean(accuracies)"
   ]
  },
  {
   "cell_type": "code",
   "execution_count": 152,
   "id": "f2965dc7",
   "metadata": {},
   "outputs": [
    {
     "name": "stdout",
     "output_type": "stream",
     "text": [
      "n = 34, accuracy = 0.25091888462685685\n"
     ]
    }
   ],
   "source": [
    "accs = {}\n",
    "\n",
    "for n in range(1, 51):\n",
    "    model.n_estimators = n\n",
    "    accs[n] = calc_accuracy(model, kf)\n",
    "    #print(f'n = {n}, accuracy = {accs[n]}')\n",
    "\n",
    "n = max(accs, key=accs.get)\n",
    "print(f'n = {n}, accuracy = {accs.get(n)}')"
   ]
  },
  {
   "cell_type": "markdown",
   "id": "53bdabbf",
   "metadata": {},
   "source": [
    "### Programming Assignment 5.2: Gradient Boosting Over Decisive Trees"
   ]
  },
  {
   "cell_type": "markdown",
   "id": "763636cf",
   "metadata": {},
   "source": [
    "- work with gradient boosting and adjust its hyperparameters\n",
    "- compare different ways of building compositions\n",
    "- understand in which case it is better to use a random forest, and in which - gradient boosting\n",
    "- use log-loss metric"
   ]
  },
  {
   "cell_type": "markdown",
   "id": "03f4d377",
   "metadata": {},
   "source": [
    "Метод градиентного бустинга последовательно строит композицию алгоритмов, причем каждый следующий алгоритм выбирается так, чтобы исправлять ошибки уже имеющейся композиции. Обычно в качестве базовых алгоритмов используют деревья небольшой глубины, поскольку их достаточно легко строить, и при этом они дают нелинейные разделяющие поверхности."
   ]
  },
  {
   "cell_type": "markdown",
   "id": "333de077",
   "metadata": {},
   "source": [
    "Другой метод построения композиций — случайный лес. В нем, в отличие от градиентного бустинга, отдельные деревья строятся независимо и без каких-либо ограничений на глубину — дерево наращивается до тех пор, пока не покажет наилучшее качество на обучающей выборке."
   ]
  },
  {
   "cell_type": "markdown",
   "id": "efe81dbb",
   "metadata": {},
   "source": [
    "https://thecode.media/boosting/"
   ]
  },
  {
   "cell_type": "markdown",
   "id": "79bebc17",
   "metadata": {},
   "source": [
    "Обратите внимание, что, хотя в градиентного бустинге гораздо более слабые базовые алгоритмы, он выигрывает у случайного леса благодаря более **\"направленной\" настройке — каждый следующий алгоритм исправляет ошибки имеющейся композиции. Также он обучается быстрее случайного леса благодаря использованию неглубоких деревьев.**\n",
    "\n",
    "В то же время, случайный лес может показать более высокое качество при неограниченных ресурсах — так, он выиграет у градиентного бустинга на наших данных, если увеличить число деревьев до нескольких сотен (проверьте сами!)."
   ]
  },
  {
   "cell_type": "code",
   "execution_count": 9,
   "id": "7c8d5ffb",
   "metadata": {},
   "outputs": [],
   "source": [
    "from sklearn.model_selection import train_test_split\n",
    "from sklearn.ensemble import GradientBoostingClassifier\n",
    "from sklearn.metrics import log_loss\n",
    "import matplotlib.pyplot as plt \n",
    "import time"
   ]
  },
  {
   "cell_type": "code",
   "execution_count": 5,
   "id": "c5147724",
   "metadata": {},
   "outputs": [],
   "source": [
    "gbm = pd.read_csv('gbm-data.csv')"
   ]
  },
  {
   "cell_type": "code",
   "execution_count": 6,
   "id": "3e41db50",
   "metadata": {},
   "outputs": [],
   "source": [
    "X = gbm.iloc[:, 1:].values\n",
    "y = gbm.iloc[:, :1]\n",
    "\n",
    "X_train, X_test, y_train, y_test = train_test_split(X, y, test_size=0.8, random_state=241)"
   ]
  },
  {
   "cell_type": "code",
   "execution_count": 7,
   "id": "4ab19ec5",
   "metadata": {},
   "outputs": [],
   "source": [
    "def learn(learning_rate, X_train, y_train, X_test, y_test):\n",
    "    model = GradientBoostingClassifier(\n",
    "        n_estimators=250,\n",
    "        verbose=True,\n",
    "        random_state=241,\n",
    "        learning_rate=learning_rate\n",
    "        )\n",
    "    model.fit(X_train, y_train)\n",
    "    \n",
    "    test_score = list(range(250))\n",
    "    train_score = list(range(250))\n",
    "\n",
    "    for i, predictions in enumerate(model.staged_decision_function(X_test)):\n",
    "        predictions = [x[0] for x in predictions.tolist()] # unpack this stupid format\n",
    "        predictions = [1/(1 + np.exp(-x)) for x in predictions]\n",
    "        test_score[i] = log_loss(y_test, predictions)\n",
    "\n",
    "    for i, predictions in enumerate(model.staged_decision_function(X_train)):\n",
    "        predictions = [x[0] for x in predictions.tolist()] # unpack this stupid format\n",
    "        predictions = [1/(1 + np.exp(-x)) for x in predictions]\n",
    "        train_score[i] = log_loss(y_train, predictions)\n",
    "\n",
    "    plt.figure()\n",
    "    plt.plot(test_score, 'r', linewidth=2)\n",
    "    plt.plot(train_score, 'g', linewidth=2)\n",
    "    plt.legend(['test', 'train'])\n",
    "    plt.show()\n",
    "\n",
    "    print(f'learning rate: {learning_rate}\\nscore: {min(test_score)}\\niteration: {np.argmin(test_score)}')\n",
    "    \n",
    "    return train_score, test_score"
   ]
  },
  {
   "cell_type": "code",
   "execution_count": 10,
   "id": "a303f6aa",
   "metadata": {},
   "outputs": [
    {
     "name": "stderr",
     "output_type": "stream",
     "text": [
      "/Users/vadim/opt/anaconda3/lib/python3.8/site-packages/sklearn/utils/validation.py:63: DataConversionWarning: A column-vector y was passed when a 1d array was expected. Please change the shape of y to (n_samples, ), for example using ravel().\n",
      "  return f(*args, **kwargs)\n"
     ]
    },
    {
     "name": "stdout",
     "output_type": "stream",
     "text": [
      "      Iter       Train Loss   Remaining Time \n",
      "         1           1.0190           19.44s\n",
      "         2           0.9192           14.59s\n",
      "         3           0.8272           13.52s\n",
      "         4           0.7834           13.82s\n",
      "         5           0.7109           13.60s\n",
      "         6           0.6368           12.68s\n",
      "         7           0.5797           12.10s\n",
      "         8           0.5610           11.70s\n",
      "         9           0.5185           11.33s\n",
      "        10           0.4984           11.21s\n",
      "        20           0.1999           10.02s\n",
      "        30           0.1313            9.34s\n",
      "        40           0.0790            8.76s\n",
      "        50           0.0511            8.25s\n",
      "        60           0.0352            7.74s\n",
      "        70           0.0245            7.49s\n",
      "        80           0.0162            7.21s\n",
      "        90           0.0114            6.87s\n",
      "       100           0.0077            6.36s\n",
      "       200           0.0002            2.02s\n"
     ]
    },
    {
     "data": {
      "image/png": "[encoded data removed]",
      "text/plain": [
       "<Figure size 432x288 with 1 Axes>"
      ]
     },
     "metadata": {
      "needs_background": "light"
     },
     "output_type": "display_data"
    },
    {
     "name": "stdout",
     "output_type": "stream",
     "text": [
      "learning rate: 1\n",
      "score: 0.5822942594278475\n",
      "iteration: 0\n",
      "*** TIME 12.205585956573486 sec; rate: 1 ***\n",
      "      Iter       Train Loss   Remaining Time \n",
      "         1           1.1255           13.01s\n",
      "         2           1.0035           12.33s\n",
      "         3           0.9386           12.09s\n"
     ]
    },
    {
     "name": "stderr",
     "output_type": "stream",
     "text": [
      "/Users/vadim/opt/anaconda3/lib/python3.8/site-packages/sklearn/utils/validation.py:63: DataConversionWarning: A column-vector y was passed when a 1d array was expected. Please change the shape of y to (n_samples, ), for example using ravel().\n",
      "  return f(*args, **kwargs)\n"
     ]
    },
    {
     "name": "stdout",
     "output_type": "stream",
     "text": [
      "         4           0.8844           12.30s\n",
      "         5           0.8381           12.93s\n",
      "         6           0.7995           12.73s\n",
      "         7           0.7559           12.62s\n",
      "         8           0.7205           12.67s\n",
      "         9           0.6958           13.39s\n",
      "        10           0.6725           13.00s\n",
      "        20           0.4672           10.93s\n",
      "        30           0.3179           10.64s\n",
      "        40           0.2274            9.88s\n",
      "        50           0.1774            9.49s\n",
      "        60           0.1394            8.79s\n",
      "        70           0.1050            8.29s\n",
      "        80           0.0805            8.00s\n",
      "        90           0.0650            7.60s\n",
      "       100           0.0511            6.96s\n",
      "       200           0.0058            2.07s\n"
     ]
    },
    {
     "data": {
      "image/png": "[encoded data removed]",
      "text/plain": [
       "<Figure size 432x288 with 1 Axes>"
      ]
     },
     "metadata": {
      "needs_background": "light"
     },
     "output_type": "display_data"
    },
    {
     "name": "stdout",
     "output_type": "stream",
     "text": [
      "learning rate: 0.5\n",
      "score: 0.5584259973942154\n",
      "iteration: 6\n",
      "*** TIME 12.240142822265625 sec; rate: 0.5 ***\n",
      "      Iter       Train Loss   Remaining Time \n",
      "         1           1.2095           13.88s\n",
      "         2           1.1006           11.37s\n",
      "         3           1.0240           10.33s\n",
      "         4           0.9729            9.86s\n",
      "         5           0.9387            9.64s\n"
     ]
    },
    {
     "name": "stderr",
     "output_type": "stream",
     "text": [
      "/Users/vadim/opt/anaconda3/lib/python3.8/site-packages/sklearn/utils/validation.py:63: DataConversionWarning: A column-vector y was passed when a 1d array was expected. Please change the shape of y to (n_samples, ), for example using ravel().\n",
      "  return f(*args, **kwargs)\n"
     ]
    },
    {
     "name": "stdout",
     "output_type": "stream",
     "text": [
      "         6           0.8948            9.96s\n",
      "         7           0.8621            9.77s\n",
      "         8           0.8360            9.66s\n",
      "         9           0.8171            9.55s\n",
      "        10           0.7883            9.44s\n",
      "        20           0.6029            9.01s\n",
      "        30           0.4760            8.46s\n",
      "        40           0.3879            8.09s\n",
      "        50           0.3325            7.75s\n",
      "        60           0.2759            7.35s\n",
      "        70           0.2304            6.95s\n",
      "        80           0.1969            6.56s\n",
      "        90           0.1718            6.42s\n",
      "       100           0.1404            6.01s\n",
      "       200           0.0358            2.12s\n"
     ]
    },
    {
     "data": {
      "image/png": "[encoded data removed]",
      "text/plain": [
       "<Figure size 432x288 with 1 Axes>"
      ]
     },
     "metadata": {
      "needs_background": "light"
     },
     "output_type": "display_data"
    },
    {
     "name": "stdout",
     "output_type": "stream",
     "text": [
      "learning rate: 0.3\n",
      "score: 0.5432835808866866\n",
      "iteration: 10\n",
      "*** TIME 12.550425052642822 sec; rate: 0.3 ***\n",
      "      Iter       Train Loss   Remaining Time \n",
      "         1           1.2613           12.67s\n",
      "         2           1.1715           11.50s\n",
      "         3           1.1009           11.29s\n",
      "         4           1.0529           11.03s\n"
     ]
    },
    {
     "name": "stderr",
     "output_type": "stream",
     "text": [
      "/Users/vadim/opt/anaconda3/lib/python3.8/site-packages/sklearn/utils/validation.py:63: DataConversionWarning: A column-vector y was passed when a 1d array was expected. Please change the shape of y to (n_samples, ), for example using ravel().\n",
      "  return f(*args, **kwargs)\n"
     ]
    },
    {
     "name": "stdout",
     "output_type": "stream",
     "text": [
      "         5           1.0130           11.46s\n",
      "         6           0.9740           11.19s\n",
      "         7           0.9475           11.14s\n",
      "         8           0.9197           10.87s\n",
      "         9           0.8979           10.70s\n",
      "        10           0.8730           10.68s\n",
      "        20           0.7207            9.92s\n",
      "        30           0.6055            9.34s\n",
      "        40           0.5244            9.31s\n",
      "        50           0.4501            8.67s\n",
      "        60           0.3908            8.13s\n",
      "        70           0.3372            7.60s\n",
      "        80           0.3009            7.48s\n",
      "        90           0.2603            7.16s\n",
      "       100           0.2327            6.68s\n",
      "       200           0.0835            2.21s\n"
     ]
    },
    {
     "data": {
      "image/png": "[encoded data removed]",
      "text/plain": [
       "<Figure size 432x288 with 1 Axes>"
      ]
     },
     "metadata": {
      "needs_background": "light"
     },
     "output_type": "display_data"
    },
    {
     "name": "stdout",
     "output_type": "stream",
     "text": [
      "learning rate: 0.2\n",
      "score: 0.5301645204906471\n",
      "iteration: 36\n",
      "*** TIME 12.889123916625977 sec; rate: 0.2 ***\n",
      "      Iter       Train Loss   Remaining Time \n",
      "         1           1.3199           11.35s\n",
      "         2           1.2645           10.12s\n",
      "         3           1.2170            9.44s\n",
      "         4           1.1775            9.09s\n",
      "         5           1.1404            9.00s\n"
     ]
    },
    {
     "name": "stderr",
     "output_type": "stream",
     "text": [
      "/Users/vadim/opt/anaconda3/lib/python3.8/site-packages/sklearn/utils/validation.py:63: DataConversionWarning: A column-vector y was passed when a 1d array was expected. Please change the shape of y to (n_samples, ), for example using ravel().\n",
      "  return f(*args, **kwargs)\n"
     ]
    },
    {
     "name": "stdout",
     "output_type": "stream",
     "text": [
      "         6           1.1106            9.04s\n",
      "         7           1.0844            8.96s\n",
      "         8           1.0617            8.82s\n",
      "         9           1.0411            8.71s\n",
      "        10           1.0223            8.60s\n",
      "        20           0.8864            8.73s\n",
      "        30           0.7844            8.81s\n",
      "        40           0.7176            8.63s\n",
      "        50           0.6590            8.31s\n",
      "        60           0.6120            8.01s\n",
      "        70           0.5599            7.61s\n",
      "        80           0.5242            7.23s\n",
      "        90           0.4829            6.72s\n",
      "       100           0.4473            6.33s\n",
      "       200           0.2379            2.09s\n"
     ]
    },
    {
     "data": {
      "image/png": "[encoded data removed]",
      "text/plain": [
       "<Figure size 432x288 with 1 Axes>"
      ]
     },
     "metadata": {
      "needs_background": "light"
     },
     "output_type": "display_data"
    },
    {
     "name": "stdout",
     "output_type": "stream",
     "text": [
      "learning rate: 0.1\n",
      "score: 0.5259049090698129\n",
      "iteration: 51\n",
      "*** TIME 12.517916917800903 sec; rate: 0.1 ***\n"
     ]
    }
   ],
   "source": [
    "learning_rates = [1, 0.5, 0.3, 0.2, 0.1]\n",
    "\n",
    "for lr in learning_rates:\n",
    "    start = time.time()\n",
    "    learn(lr, X_train, y_train, X_test, y_test)\n",
    "    print(f'*** TIME {time.time() - start} sec; rate: {lr} ***')"
   ]
  },
  {
   "cell_type": "markdown",
   "id": "5aa78154",
   "metadata": {},
   "source": [
    "- learning rate: 0.2\n",
    "- score: 0.5301645204906471\n",
    "- iteration: 36"
   ]
  },
  {
   "cell_type": "code",
   "execution_count": 260,
   "id": "29b6b036",
   "metadata": {},
   "outputs": [
    {
     "name": "stderr",
     "output_type": "stream",
     "text": [
      "<ipython-input-260-07e584b1d4a7>:2: DataConversionWarning: A column-vector y was passed when a 1d array was expected. Please change the shape of y to (n_samples,), for example using ravel().\n",
      "  forest.fit(X_train, y_train)\n"
     ]
    },
    {
     "data": {
      "text/plain": [
       "0.5415685811957381"
      ]
     },
     "execution_count": 260,
     "metadata": {},
     "output_type": "execute_result"
    }
   ],
   "source": [
    "forest = RandomForestClassifier(n_estimators=36, random_state=241)\n",
    "forest.fit(X_train, y_train)\n",
    "\n",
    "log_loss(y_test, forest.predict_proba(X_test))"
   ]
  }
 ],
 "metadata": {
  "kernelspec": {
   "display_name": "Python 3",
   "language": "python",
   "name": "python3"
  },
  "language_info": {
   "codemirror_mode": {
    "name": "ipython",
    "version": 3
   },
   "file_extension": ".py",
   "mimetype": "text/x-python",
   "name": "python",
   "nbconvert_exporter": "python",
   "pygments_lexer": "ipython3",
   "version": "3.8.8"
  }
 },
 "nbformat": 4,
 "nbformat_minor": 5
}
